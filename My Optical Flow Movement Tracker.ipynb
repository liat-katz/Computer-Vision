{
 "cells": [
  {
   "cell_type": "markdown",
   "id": "c5d20649",
   "metadata": {},
   "source": [
    "This code can track the movement of elements in real time using the live feed of the computer's camera"
   ]
  },
  {
   "cell_type": "code",
   "execution_count": 1,
   "id": "b0579cd0",
   "metadata": {},
   "outputs": [],
   "source": [
    "#Perform base imports\n",
    "import numpy as np\n",
    "import cv2"
   ]
  },
  {
   "cell_type": "code",
   "execution_count": 2,
   "id": "bec840f7",
   "metadata": {},
   "outputs": [],
   "source": [
    "#determine strongest corners in the image\n",
    "corner_track_parameters=dict(maxCorners=20, #how many corners to detect\n",
    "                             qualityLevel=0.4, #minimum quality of each corner\n",
    "                             minDistance=7, #minimum distance between each corner to be returned (Euclidean)\n",
    "                             blockSize=7 #size of average block for checking covariance among pixel region\n",
    "                            )"
   ]
  },
  {
   "cell_type": "code",
   "execution_count": 3,
   "id": "ba8f8ffe",
   "metadata": {},
   "outputs": [],
   "source": [
    "lucas_parameters=dict(winSize=(200,200), #default size\n",
    "                      maxLevel=2, #find movement at various resolutions\n",
    "                      criteria=(cv2.TERM_CRITERIA_EPS | cv2.TERM_CRITERIA_COUNT, 15, 0.03))\n",
    "#criteria count=max number of iterations (max number of search for points) of 15\n",
    "#epsilon=speed/when to finish search of 0.03"
   ]
  },
  {
   "cell_type": "code",
   "execution_count": 9,
   "id": "82b68f13",
   "metadata": {},
   "outputs": [],
   "source": [
    "#facial tracking on camera\n",
    "\n",
    "cap=cv2.VideoCapture(0) #gets live video from computer camera\n",
    "\n",
    "ret, previous_frame=cap.read()\n",
    "\n",
    "previous_gray=cv2.cvtColor(previous_frame,cv2.COLOR_RGB2GRAY) #converts the frame to grayscale\n",
    "\n",
    "##CHOOSING POINTS TO TRACK##\n",
    "previous_points=cv2.goodFeaturesToTrack(previous_gray, mask=None,**corner_track_parameters)\n",
    "#pass in the image and the previously established dictionary of parameters to cv2's feature tracking mechanism\n",
    "mask=np.zeros_like(previous_frame) #create array of zeros in the same shape as the frame in order to draw on it and display points on it\n",
    "\n",
    "while True:\n",
    "    ret, frame=cap.read()\n",
    "    frame_grayscale=cv2.cvtColor(frame, cv2.COLOR_BGR2GRAY)\n",
    "    next_points, status, error=cv2.calcOpticalFlowPyrLK(previous_gray,frame_grayscale,previous_points, None, **lucas_parameters)\n",
    "    #calculates optical flow (movement of points) using lucas-kanade method\n",
    "    good_newpoints=next_points[status==1] #if status is 1, movement was detected\n",
    "    good_previouspoints=previous_points[status==1]\n",
    "    \n",
    "    for i, (new, previous) in enumerate(zip(good_newpoints, good_previouspoints)):\n",
    "        #calculates each x and y position of the points found in order to draw markers on the image\n",
    "        x_newpoint, y_newpoint=new.ravel() #flattens the array\n",
    "        x_previouspoint, y_previouspoint=previous.ravel()\n",
    "        \n",
    "        ##DRAW LINES ON THE MASK OF ZEROS WE CREATED BEFORE##\n",
    "        mask=cv2.line(mask, #what image to draw the line on\n",
    "                      (int(x_newpoint), int(y_newpoint)), (int(x_previouspoint), int(y_previouspoint)), #where to draw the line from and to\n",
    "                      (0,0,255), #line color\n",
    "                      4) #line thickness\n",
    "                      #the above code draws a line that tracks the movement of the old point to the current point\n",
    "        #draw dot on current frame on the point we're tracking\n",
    "        frame=cv2.circle(frame, #what image to draw the point on\n",
    "                         (int(x_newpoint), int(y_newpoint)), #where to draw the center of the circle (this is essentially where the circle will be on the image)\n",
    "                         8, #radius of the circle\n",
    "                         (0,0,255), #color of the circle\n",
    "                         -1) #thickness of the circle (-1 fills in the circle)\n",
    "    img=cv2.add(frame, mask) #adds the mask to the image\n",
    "    cv2.imshow('tracking', img)\n",
    "    \n",
    "    k=cv2.waitKey(30) & 0xFF\n",
    "    if k==27:\n",
    "        break #allows us to use the escape key to escape from the camera\n",
    "        \n",
    "    \n",
    "    #update previous points to be the current points\n",
    "    previous_gray=frame_grayscale.copy()\n",
    "    previous_points=good_newpoints.reshape(-1,1,2)\n",
    "\n",
    "    \n",
    "##END THE PROGRAM##\n",
    "cv2.destroyAllWindows()\n",
    "cap.release()\n",
    "    \n",
    "    "
   ]
  }
 ],
 "metadata": {
  "kernelspec": {
   "display_name": "Python 3",
   "language": "python",
   "name": "python3"
  },
  "language_info": {
   "codemirror_mode": {
    "name": "ipython",
    "version": 3
   },
   "file_extension": ".py",
   "mimetype": "text/x-python",
   "name": "python",
   "nbconvert_exporter": "python",
   "pygments_lexer": "ipython3",
   "version": "3.8.8"
  }
 },
 "nbformat": 4,
 "nbformat_minor": 5
}
